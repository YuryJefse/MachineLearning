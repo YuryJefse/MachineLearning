{
 "cells": [
  {
   "cell_type": "code",
   "execution_count": 29,
   "metadata": {},
   "outputs": [],
   "source": [
    "library(\"MASS\")\n",
    "\n",
    "X = matrix(data = c(c(1,2,3),c(4,5,6)), nrow = 2, byrow = TRUE)\n",
    "y = matrix(data = c(9,8), ncol = 1, byrow = TRUE)"
   ]
  },
  {
   "cell_type": "code",
   "execution_count": 30,
   "metadata": {},
   "outputs": [],
   "source": [
    "primeiro = MASS::ginv(t(X)%*%X)"
   ]
  },
  {
   "cell_type": "code",
   "execution_count": 31,
   "metadata": {},
   "outputs": [],
   "source": [
    "segunda = t(X) %*% y"
   ]
  },
  {
   "cell_type": "code",
   "execution_count": 32,
   "metadata": {},
   "outputs": [
    {
     "data": {
      "text/html": [
       "<table>\n",
       "<tbody>\n",
       "\t<tr><td>-4.9444444</td></tr>\n",
       "\t<tr><td>-0.1111111</td></tr>\n",
       "\t<tr><td> 4.7222222</td></tr>\n",
       "</tbody>\n",
       "</table>\n"
      ],
      "text/latex": [
       "\\begin{tabular}{l}\n",
       "\t -4.9444444\\\\\n",
       "\t -0.1111111\\\\\n",
       "\t  4.7222222\\\\\n",
       "\\end{tabular}\n"
      ],
      "text/markdown": [
       "\n",
       "| -4.9444444 |\n",
       "| -0.1111111 |\n",
       "|  4.7222222 |\n",
       "\n"
      ],
      "text/plain": [
       "     [,1]      \n",
       "[1,] -4.9444444\n",
       "[2,] -0.1111111\n",
       "[3,]  4.7222222"
      ]
     },
     "metadata": {},
     "output_type": "display_data"
    }
   ],
   "source": [
    "primeiro %*% segunda"
   ]
  },
  {
   "cell_type": "code",
   "execution_count": 5,
   "metadata": {},
   "outputs": [],
   "source": [
    "??ggplot"
   ]
  },
  {
   "cell_type": "code",
   "execution_count": null,
   "metadata": {},
   "outputs": [],
   "source": []
  }
 ],
 "metadata": {
  "kernelspec": {
   "display_name": "R",
   "language": "R",
   "name": "ir"
  },
  "language_info": {
   "codemirror_mode": "r",
   "file_extension": ".r",
   "mimetype": "text/x-r-source",
   "name": "R",
   "pygments_lexer": "r",
   "version": "3.6.1"
  }
 },
 "nbformat": 4,
 "nbformat_minor": 4
}
